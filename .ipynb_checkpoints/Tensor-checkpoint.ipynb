{
 "cells": [
  {
   "cell_type": "markdown",
   "id": "aa639834",
   "metadata": {},
   "source": [
    "## Tensor is a multidimentional array that runs on GPU . \n",
    "## Mathematical , tensor is a scalar vector or a matrix . i.e vector is a one dimensional and matrix is two dimensional tensor"
   ]
  },
  {
   "cell_type": "code",
   "execution_count": 21,
   "id": "d8028e18",
   "metadata": {},
   "outputs": [
    {
     "name": "stdout",
     "output_type": "stream",
     "text": [
      "tf.Tensor(4, shape=(), dtype=int32)\n",
      "tf.Tensor(\n",
      "[[4. 4. 4.]\n",
      " [4. 4. 4.]], shape=(2, 3), dtype=float32)\n",
      "tf.Tensor([[4. 4.]], shape=(1, 2), dtype=float32)\n",
      "tf.Tensor(\n",
      "[[1 2 5]\n",
      " [6 7 8]\n",
      " [0 1 4]], shape=(3, 3), dtype=int32)\n",
      "\n",
      "tf.Tensor(\n",
      "[[1. 1. 1.]\n",
      " [1. 1. 1.]\n",
      " [1. 1. 1.]], shape=(3, 3), dtype=float32) tf.Tensor(\n",
      "[[0. 0. 0.]\n",
      " [0. 0. 0.]\n",
      " [0. 0. 0.]], shape=(3, 3), dtype=float32) tf.Tensor(\n",
      "[[1. 0. 0.]\n",
      " [0. 1. 0.]\n",
      " [0. 0. 1.]], shape=(3, 3), dtype=float32)\n"
     ]
    }
   ],
   "source": [
    "import tensorflow as tf    \n",
    "x = tf.constant(4)   # creating tensor\n",
    "print(x)\n",
    "x = tf.constant(4.0 , shape = (2,3) )\n",
    "print(x)\n",
    "x = tf.constant(4 , shape = (1,2) , dtype = tf.float32)   \n",
    "print(x)\n",
    "print(tf.constant([[1,2,5] , [6,7,8] , [0,1,4]]))\n",
    "print()\n",
    "print(tf.ones((3,3)) , tf.zeros((3,3)) , tf.eye(3))\n"
   ]
  },
  {
   "attachments": {
    "image.png": {
     "image/png": "[encoded data removed]"
    }
   },
   "cell_type": "markdown",
   "id": "94ccafc1",
   "metadata": {},
   "source": [
    "#### Normal distribution\n",
    "![image.png](attachment:image.png)\n",
    "#### Kurtosis means how high is its peek and skewness means how much it deviates from symmetricity"
   ]
  },
  {
   "cell_type": "code",
   "execution_count": 33,
   "id": "31ce8485",
   "metadata": {},
   "outputs": [
    {
     "name": "stdout",
     "output_type": "stream",
     "text": [
      "tf.Tensor(\n",
      "[[-1.050736    0.83577275 -0.748905  ]\n",
      " [-0.75804436 -1.8014462   0.16236527]\n",
      " [ 0.7875557  -0.22162303  0.5531935 ]], shape=(3, 3), dtype=float32)\n",
      "tf.Tensor(\n",
      "[[7.1719227 9.210144  9.546005 ]\n",
      " [9.22727   6.688341  4.167856 ]\n",
      " [7.4983225 7.0954337 5.6475515]], shape=(3, 3), dtype=float32)\n",
      "tf.Tensor([0 1 2 3 4 5 6 7 8], shape=(9,), dtype=int32)\n",
      "tf.Tensor([1 4 7], shape=(3,), dtype=int32)\n",
      "tf.Tensor(\n",
      "[[2 2]\n",
      " [2 2]], shape=(2, 2), dtype=int32)\n",
      "tf.Tensor(\n",
      "[[2. 2.]\n",
      " [2. 2.]], shape=(2, 2), dtype=float64)\n"
     ]
    }
   ],
   "source": [
    "# creating distribution such as uniform distribution , normal etc .\n",
    "\n",
    "print(tf.random.normal((3,3) , mean = 0 , stddev = 1))  # normal or gaussian distribution . \n",
    "# normal distribution is symmetric about the mean , it means data near mean has more occurence . \n",
    "# Bell shaped curve\n",
    "\n",
    "print(tf.random.uniform((3,3) , minval = 4, maxval = 10)) # uniform or rectangular distribution .\n",
    "# outcomes are equally likely \n",
    "\n",
    "print(tf.range(9))\n",
    "print(tf.range(start = 1 , limit = 10 , delta = 3))\n",
    "x = tf.constant(2 , shape = (2,2))\n",
    "print(x)\n",
    "print(tf.cast(x , dtype = tf.float64))\n",
    "# tf.int or tf.float or tf.bool "
   ]
  },
  {
   "cell_type": "code",
   "execution_count": 54,
   "id": "49b39ea3",
   "metadata": {},
   "outputs": [
    {
     "name": "stdout",
     "output_type": "stream",
     "text": [
      "tf.Tensor([[4 4]], shape=(1, 2), dtype=int64)\n",
      "tf.Tensor(\n",
      "[[6 6]\n",
      " [6 6]], shape=(2, 2), dtype=int64)\n",
      "tf.Tensor(\n",
      "[[10 10]\n",
      " [10 10]], shape=(2, 2), dtype=int64)\n",
      "tf.Tensor(\n",
      "[[-2 -2]\n",
      " [-2 -2]], shape=(2, 2), dtype=int64)\n",
      "tf.Tensor(\n",
      "[[24 24]\n",
      " [24 24]], shape=(2, 2), dtype=int64)\n",
      "tf.Tensor([[48 48]], shape=(1, 2), dtype=int64)\n",
      "tf.Tensor(\n",
      "[[[[24 24]\n",
      "   [24 24]]\n",
      "\n",
      "  [[24 24]\n",
      "   [24 24]]]], shape=(1, 2, 2, 2), dtype=int64)\n",
      "tf.Tensor([48 48], shape=(2,), dtype=int64)\n",
      "tf.Tensor([[16 16]], shape=(1, 2), dtype=int64)\n",
      "tf.Tensor(\n",
      "[[-0.47687584 -0.3375587   0.30187225 -0.41582656]\n",
      " [-0.28710973  0.19298701  0.22797108  0.20987256]], shape=(2, 4), dtype=float32)\n",
      "tf.Tensor(\n",
      "[[-0.47687584 -0.3375587   0.30187225 -0.41582656]\n",
      " [-0.28710973  0.19298701  0.22797108  0.20987256]], shape=(2, 4), dtype=float32)\n"
     ]
    }
   ],
   "source": [
    "# Mathematical operation\n",
    "x = tf.constant(4 , shape = (1,2) , dtype = tf.int64)\n",
    "print(x)\n",
    "y = tf.constant(6 , shape = (2,2) , dtype = tf.int64)\n",
    "print(y)\n",
    "# z = tf.add(x , y)\n",
    "z = x+y\n",
    "print(z)\n",
    "z = tf.subtract(x , y)   # or simply z = x - y\n",
    "print(z)\n",
    "print(x*y)  # it is not matrix multiplication\n",
    "# similarly use .divide or .multiply or simply symbols\n",
    "\n",
    "z = tf.tensordot(x , y , axes = 1)    # for matrix multiplication only when axes = 1\n",
    "print(z)\n",
    "z = tf.tensordot(x , y , axes = 0)   \n",
    "print(z)\n",
    "print(tf.reduce_sum(x*y , axis = 0))\n",
    "\n",
    "print(x**2)\n",
    "x = tf.random.normal((2,2))\n",
    "y = tf.random.normal((2,4))\n",
    "print(tf.matmul(x,y))  # matrix multiplication \n",
    "print(x@y)             # matrix multiplication \n"
   ]
  },
  {
   "cell_type": "code",
   "execution_count": 74,
   "id": "53c0ab13",
   "metadata": {},
   "outputs": [
    {
     "name": "stdout",
     "output_type": "stream",
     "text": [
      "tf.Tensor([1 2 3 6 5 4], shape=(6,), dtype=int32)\n",
      "tf.Tensor([2 3 6 5 4], shape=(5,), dtype=int32)\n",
      "tf.Tensor([1 3 5], shape=(3,), dtype=int32)\n",
      "tf.Tensor([4 5 6], shape=(3,), dtype=int32)\n",
      "tf.Tensor([2 5], shape=(2,), dtype=int32)\n",
      "tf.Tensor(\n",
      "[[1 4]\n",
      " [2 3]\n",
      " [3 4]], shape=(3, 2), dtype=int32)\n",
      "tf.Tensor([1 4], shape=(2,), dtype=int32)\n",
      "tf.Tensor(\n",
      "[[1 4]\n",
      " [2 3]], shape=(2, 2), dtype=int32)\n",
      "tf.Tensor(\n",
      "[[4]\n",
      " [3]], shape=(2, 1), dtype=int32)\n"
     ]
    }
   ],
   "source": [
    "# Indexing \n",
    "x = tf.constant([1,2,3,6,5,4])\n",
    "print(x[:])\n",
    "print(x[1:])\n",
    "print(x[::2])\n",
    "print(x[-1:-4:-1])\n",
    "# to gather particular values from tensor let's say 1 and 4th index elements \n",
    "indices = tf.constant([1,4])\n",
    "x1 = tf.gather(x , indices)\n",
    "print(x1)\n",
    "x = tf.constant([[1,4],\n",
    "                     [2,3] , \n",
    "                     [3,4]])\n",
    "print(x)\n",
    "print(x[0,:])\n",
    "print(x[0:2:])\n",
    "print(x[0:2,1:2])"
   ]
  },
  {
   "cell_type": "code",
   "execution_count": 88,
   "id": "32246232",
   "metadata": {},
   "outputs": [
    {
     "name": "stdout",
     "output_type": "stream",
     "text": [
      "tf.Tensor([0 1 2 3 4 5 6 7 8], shape=(9,), dtype=int32)\n",
      "tf.Tensor(\n",
      "[[0 1 2]\n",
      " [3 4 5]\n",
      " [6 7 8]], shape=(3, 3), dtype=int32)\n",
      "tf.Tensor(\n",
      "[[0 3 6]\n",
      " [1 4 7]\n",
      " [2 5 8]], shape=(3, 3), dtype=int32)\n"
     ]
    }
   ],
   "source": [
    "# Reshaping\n",
    "x = tf.range(9)\n",
    "print(x)\n",
    "x = tf.reshape(x , (3,3))\n",
    "print(x)\n",
    "print(tf.transpose(x))"
   ]
  }
 ],
 "metadata": {
  "kernelspec": {
   "display_name": "Python 3 (ipykernel)",
   "language": "python",
   "name": "python3"
  },
  "language_info": {
   "codemirror_mode": {
    "name": "ipython",
    "version": 3
   },
   "file_extension": ".py",
   "mimetype": "text/x-python",
   "name": "python",
   "nbconvert_exporter": "python",
   "pygments_lexer": "ipython3",
   "version": "3.9.7"
  }
 },
 "nbformat": 4,
 "nbformat_minor": 5
}
