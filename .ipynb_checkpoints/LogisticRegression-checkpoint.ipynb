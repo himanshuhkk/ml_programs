{
 "cells": [
  {
   "cell_type": "code",
   "execution_count": 62,
   "id": "7ac22c82",
   "metadata": {},
   "outputs": [
    {
     "name": "stdout",
     "output_type": "stream",
     "text": [
      "                 precision    recall  f1-score   support\n",
      "\n",
      "    Iris-setosa       1.00      1.00      1.00        15\n",
      "Iris-versicolor       1.00      0.91      0.95        11\n",
      " Iris-virginica       0.92      1.00      0.96        12\n",
      "\n",
      "       accuracy                           0.97        38\n",
      "      macro avg       0.97      0.97      0.97        38\n",
      "   weighted avg       0.98      0.97      0.97        38\n",
      "\n"
     ]
    },
    {
     "name": "stderr",
     "output_type": "stream",
     "text": [
      "C:\\ProgramData\\Anaconda3\\lib\\site-packages\\sklearn\\utils\\validation.py:63: DataConversionWarning: A column-vector y was passed when a 1d array was expected. Please change the shape of y to (n_samples, ), for example using ravel().\n",
      "  return f(*args, **kwargs)\n"
     ]
    }
   ],
   "source": [
    "import pandas as pd\n",
    "from sklearn.linear_model import LogisticRegression\n",
    "from sklearn.model_selection import train_test_split\n",
    "from sklearn.metrics import accuracy_score , mean_squared_error , confusion_matrix , classification_report\n",
    "data = pd.read_csv('Iris.csv')\n",
    "data.head()\n",
    "model = LogisticRegression()\n",
    "x_train , x_test , y_train , y_test=train_test_split(data[['PetalLengthCm']] ,data[['Species']])\n",
    "y_test.head()\n",
    "model.fit(x_train , y_train)\n",
    "predictions = model.predict(x_test)\n",
    "predictions\n",
    "score = accuracy_score(y_test , predictions)\n",
    "score\n",
    "confusion_matrix(y_test , predictions)\n",
    "accuracy_calculated = (15+14+8)/(15+14+8+1)\n",
    "accuracy_calculated\n",
    "print(classification_report(y_test , predictions))"
   ]
  }
 ],
 "metadata": {
  "kernelspec": {
   "display_name": "Python 3 (ipykernel)",
   "language": "python",
   "name": "python3"
  },
  "language_info": {
   "codemirror_mode": {
    "name": "ipython",
    "version": 3
   },
   "file_extension": ".py",
   "mimetype": "text/x-python",
   "name": "python",
   "nbconvert_exporter": "python",
   "pygments_lexer": "ipython3",
   "version": "3.9.7"
  }
 },
 "nbformat": 4,
 "nbformat_minor": 5
}
