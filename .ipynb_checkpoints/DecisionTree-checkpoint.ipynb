{
 "cells": [
  {
   "cell_type": "code",
   "execution_count": 14,
   "id": "5ce35f2e",
   "metadata": {},
   "outputs": [
    {
     "name": "stdout",
     "output_type": "stream",
     "text": [
      "                 precision    recall  f1-score   support\n",
      "\n",
      "    Iris-setosa       0.88      1.00      0.93        14\n",
      "Iris-versicolor       0.67      0.67      0.67        12\n",
      " Iris-virginica       0.70      0.58      0.64        12\n",
      "\n",
      "       accuracy                           0.76        38\n",
      "      macro avg       0.75      0.75      0.75        38\n",
      "   weighted avg       0.75      0.76      0.76        38\n",
      "\n"
     ]
    }
   ],
   "source": [
    "import pandas as pd\n",
    "from sklearn.model_selection import train_test_split\n",
    "from sklearn.tree import DecisionTreeClassifier\n",
    "from sklearn.metrics import accuracy_score , classification_report , confusion_matrix\n",
    "from sklearn import tree\n",
    "data = pd.read_csv('Iris.csv')\n",
    "data.head()\n",
    "x_train , x_test , y_train , y_test=train_test_split(data[['SepalLengthCm']] , data[['Species']])\n",
    "model = DecisionTreeClassifier()\n",
    "model.fit(x_train , y_train)\n",
    "predictions = model.predict(x_test)\n",
    "predictions\n",
    "confusion_matrix(y_test , predictions)\n",
    "print(classification_report(y_test , predictions))\n",
    "tree.export_graphviz(model , out_file = 'irisvisualize.dot' , feature_names=['SepallengthCm'] , class_names='Species' , label='all' , rounded=True , filled=True)\n"
   ]
  },
  {
   "cell_type": "code",
   "execution_count": 21,
   "id": "989f4bf6",
   "metadata": {},
   "outputs": [],
   "source": [
    "#decision tree regression\n",
    "import pandas as pd\n",
    "from sklearn.model_selection import train_test_split\n",
    "from sklearn.tree import DecisionTreeRegressor\n",
    "from sklearn.metrics import accuracy_score , classification_report , confusion_matrix\n",
    "from sklearn import tree\n",
    "data = pd.read_csv('Iris.csv')\n",
    "data.head()\n",
    "x_train , x_test , y_train , y_test=train_test_split(data[['SepalLengthCm' , 'SepalWidthCm' , 'PetalLengthCm']] , data[['PetalWidthCm']])\n",
    "model = DecisionTreeRegressor()\n",
    "model.fit(x_train , y_train)\n",
    "predictions = model.predict(x_test)\n",
    "predictions\n",
    "tree.export_graphviz(model , out_file = 'irisvisualize.dot' , feature_names=['SepalLengthCm' , 'SepalWidthCm' , 'PetalLengthCm'] , class_names='PetalWidthCm' , label='all' , rounded=True , filled=True)\n"
   ]
  }
 ],
 "metadata": {
  "kernelspec": {
   "display_name": "Python 3 (ipykernel)",
   "language": "python",
   "name": "python3"
  },
  "language_info": {
   "codemirror_mode": {
    "name": "ipython",
    "version": 3
   },
   "file_extension": ".py",
   "mimetype": "text/x-python",
   "name": "python",
   "nbconvert_exporter": "python",
   "pygments_lexer": "ipython3",
   "version": "3.9.7"
  }
 },
 "nbformat": 4,
 "nbformat_minor": 5
}
