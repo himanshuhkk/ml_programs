{
 "cells": [
  {
   "cell_type": "markdown",
   "id": "a2702d72",
   "metadata": {},
   "source": [
    "# Importing different modules and classes"
   ]
  },
  {
   "cell_type": "code",
   "execution_count": 107,
   "id": "bb756dc7",
   "metadata": {},
   "outputs": [],
   "source": [
    "import pandas as pd\n",
    "from sklearn.tree import DecisionTreeClassifier\n",
    "from sklearn.model_selection import train_test_split\n",
    "from sklearn.metrics import accuracy_score\n",
    "from sklearn import tree\n",
    "import joblib\n",
    "a = pd.read_csv('music.csv')\n",
    "X = a.drop(columns = ['genre'])\n",
    "y = a['genre']\n",
    "model = DecisionTreeClassifier() \n",
    "X_train , X_test , y_train , y_test = train_test_split(X , y , test_size=0.2)\n",
    "model.fit(X_train,y_train)\n",
    "predictions = model.predict(X_test)\n",
    "score = accuracy_score(y_test , predictions)\n",
    "joblib.dump(model , 'trained.joblib')\n",
    "tree.export_graphviz(model , out_file='visualise.dot' , feature_names = ['age' , 'gender'] , class_names = sorted(y.unique()) , label='all' , rounded=True , filled=True)\n"
   ]
  },
  {
   "cell_type": "code",
   "execution_count": 100,
   "id": "f57178c7",
   "metadata": {},
   "outputs": [
    {
     "data": {
      "text/plain": [
       "1.0"
      ]
     },
     "execution_count": 100,
     "metadata": {},
     "output_type": "execute_result"
    }
   ],
   "source": [
    "model = joblib.load('trained.joblib')\n",
    "predictions = model.predict(X_test)\n",
    "predictions\n",
    "score = accuracy_score(y_test , predictions)\n",
    "score"
   ]
  },
  {
   "cell_type": "code",
   "execution_count": 110,
   "id": "e4e5ebbf",
   "metadata": {},
   "outputs": [],
   "source": [
    "tree.export_graphviz(model , out_file='visualise.dot' , feature_names = ['age' , 'gender'] , class_names = sorted(y.unique()) , label='all' , rounded=True , filled=True)"
   ]
  }
 ],
 "metadata": {
  "kernelspec": {
   "display_name": "Python 3 (ipykernel)",
   "language": "python",
   "name": "python3"
  },
  "language_info": {
   "codemirror_mode": {
    "name": "ipython",
    "version": 3
   },
   "file_extension": ".py",
   "mimetype": "text/x-python",
   "name": "python",
   "nbconvert_exporter": "python",
   "pygments_lexer": "ipython3",
   "version": "3.9.7"
  }
 },
 "nbformat": 4,
 "nbformat_minor": 5
}
