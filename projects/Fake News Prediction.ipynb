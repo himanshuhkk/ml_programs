{
 "cells": [
  {
   "cell_type": "markdown",
   "id": "6e3fa82a",
   "metadata": {},
   "source": [
    "<!-- train.csv: A full training dataset with the following attributes:\n",
    "\n",
    "id: unique id for a news article\n",
    "title: the title of a news article\n",
    "author: author of the news article\n",
    "text: the text of the article; could be incomplete\n",
    "label: a label that marks the article as potentially unreliable\n",
    "1: unreliable\n",
    "0: reliable -->"
   ]
  },
  {
   "cell_type": "code",
   "execution_count": 1,
   "id": "b36fc7be",
   "metadata": {},
   "outputs": [],
   "source": [
    "import numpy as np\n",
    "import pandas as pd\n",
    "import re    # re ( regular expression ) for searching text data document or searching word in the data\n",
    "from nltk.corpus import stopwords   # corpus means body of particular important content of the text  \n",
    "# nltk means natural language tool kit natural lang. here is text\n",
    "# stopwords are the words which doesn't gives value to our data or we should remove these stop words as they are of no use . \n",
    "\n",
    "from nltk.stem.porter import PorterStemmer  # stemming takes the word and removes prefix and suffix of that word and return the root word of it .\n",
    "\n",
    "from sklearn.feature_extraction.text import TfidfVectorizer  # TfidfVectorizer - to convert text into feature vectors or numerical data . \n",
    "\n",
    "from sklearn.model_selection import train_test_split\n",
    "from sklearn.linear_model import LogisticRegression\n",
    "from sklearn.metrics import accuracy_score\n"
   ]
  },
  {
   "cell_type": "code",
   "execution_count": null,
   "id": "da48f04e",
   "metadata": {},
   "outputs": [],
   "source": []
  }
 ],
 "metadata": {
  "kernelspec": {
   "display_name": "Python 3 (ipykernel)",
   "language": "python",
   "name": "python3"
  },
  "language_info": {
   "codemirror_mode": {
    "name": "ipython",
    "version": 3
   },
   "file_extension": ".py",
   "mimetype": "text/x-python",
   "name": "python",
   "nbconvert_exporter": "python",
   "pygments_lexer": "ipython3",
   "version": "3.9.7"
  }
 },
 "nbformat": 4,
 "nbformat_minor": 5
}
